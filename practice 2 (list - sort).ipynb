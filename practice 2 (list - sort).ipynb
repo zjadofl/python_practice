{
 "cells": [
  {
   "cell_type": "markdown",
   "metadata": {},
   "source": [
    "# 리스트 정렬\n",
    "<br/>\n",
    "\n",
    "## 1. sort( *, key=None, reverse=False)\n",
    "**오름차순 정렬**"
   ]
  },
  {
   "cell_type": "code",
   "execution_count": 8,
   "metadata": {},
   "outputs": [
    {
     "name": "stdout",
     "output_type": "stream",
     "text": [
      "[1, 2, 3, 4, 5]\n",
      "None\n"
     ]
    }
   ],
   "source": [
    "a = [1, 2, 3, 4, 5]\n",
    "a.sort()\n",
    "print(a)        # 출력 : [1, 2, 3, 4, 5]\n",
    "\n",
    "print(a.sort()) # 출력 : None"
   ]
  },
  {
   "cell_type": "markdown",
   "metadata": {},
   "source": [
    "<br/>\n",
    "\n",
    "**내림차순 정렬** "
   ]
  },
  {
   "cell_type": "code",
   "execution_count": 5,
   "metadata": {},
   "outputs": [
    {
     "name": "stdout",
     "output_type": "stream",
     "text": [
      "[5, 4, 3, 2, 1]\n"
     ]
    }
   ],
   "source": [
    "a = [1, 2, 3, 4, 5]\n",
    "a.sort(reverse=True)\n",
    "print(a)"
   ]
  },
  {
   "cell_type": "markdown",
   "metadata": {},
   "source": [
    "<br/>\n",
    "\n",
    "**key을 사용하여 정렬**"
   ]
  },
  {
   "cell_type": "code",
   "execution_count": 11,
   "metadata": {},
   "outputs": [
    {
     "name": "stdout",
     "output_type": "stream",
     "text": [
      "['a', 'attraction', 'Bangkok', 'famous', 'in', 'is', 'It']\n"
     ]
    }
   ],
   "source": [
    "b = [\"It\", \"is\", \"a\", \"famous\", \"attraction\", \"in\", \"Bangkok\"]\n",
    "b.sort(key=str.lower)\n",
    "print(b)"
   ]
  },
  {
   "cell_type": "markdown",
   "metadata": {},
   "source": [
    "<br/>\n",
    "\n",
    "## 2. sorted(iterable , /, *, key=None, reverse=False)\n",
    "**오름차순 정렬**"
   ]
  },
  {
   "cell_type": "code",
   "execution_count": 12,
   "metadata": {},
   "outputs": [
    {
     "name": "stdout",
     "output_type": "stream",
     "text": [
      "[1, 2, 3, 4, 5]\n"
     ]
    }
   ],
   "source": [
    "a = [1, 2, 3, 4, 5]\n",
    "print(sorted(a)) # 출력 : [1, 2, 3, 4, 5]"
   ]
  },
  {
   "cell_type": "markdown",
   "metadata": {},
   "source": [
    "<br/>\n",
    "\n",
    "**내림차순 정렬**"
   ]
  },
  {
   "cell_type": "code",
   "execution_count": 13,
   "metadata": {},
   "outputs": [
    {
     "name": "stdout",
     "output_type": "stream",
     "text": [
      "[5, 4, 3, 2, 1]\n"
     ]
    }
   ],
   "source": [
    "a = [1, 2, 3, 4, 5]\n",
    "print(sorted(a, reverse=True)) # 출력 : [5, 4, 3, 2, 1]"
   ]
  },
  {
   "cell_type": "markdown",
   "metadata": {},
   "source": [
    "<br/>\n",
    "\n",
    "# 다중 리스트 정렬\n",
    "<br/>\n",
    "\n",
    "**n번째 인덱스 기준 오름차순 정렬**"
   ]
  },
  {
   "cell_type": "code",
   "execution_count": 15,
   "metadata": {},
   "outputs": [
    {
     "name": "stdout",
     "output_type": "stream",
     "text": [
      "[[2, 14], [2, 3], [5, 20], [7, 47]]\n"
     ]
    }
   ],
   "source": [
    "# 인덱스 0 기준 오름차순 정렬\n",
    "a = [[5, 20], [7, 47], [2, 14], [2, 3]]\n",
    "a.sort(key=lambda x: x[0])\n",
    "print(a)"
   ]
  },
  {
   "cell_type": "markdown",
   "metadata": {},
   "source": [
    "<br/>\n",
    "\n",
    "**2개 이상의 인덱스 기준 오름차순 정렬**"
   ]
  },
  {
   "cell_type": "code",
   "execution_count": 20,
   "metadata": {},
   "outputs": [
    {
     "name": "stdout",
     "output_type": "stream",
     "text": [
      "[[2, 3], [2, 14], [5, 20], [7, 47]]\n",
      "[[1, 2, 2], [1, 2, 3], [3, 1, 4], [4, 1, 5]]\n"
     ]
    }
   ],
   "source": [
    "# 0번째 인덱스 오름차순, 1번째 인덱스 오름차순 정렬\n",
    "a = [[5, 20], [7, 47], [2, 14], [2, 3]]\n",
    "a.sort(key=lambda x: (x[0], x[1]))\n",
    "print(a)\n",
    "\n",
    "# 0번째 인덱스 오름차순, 1번째 인덱스 오름차순, 2번째 인덱스 오름차순 정렬\n",
    "b = [[3, 1, 4], [1, 2, 3], [4, 1, 5], [1, 2, 2]]\n",
    "b.sort(key=lambda x: (x[0], x[1], x[2]))\n",
    "print(b)"
   ]
  },
  {
   "cell_type": "markdown",
   "metadata": {},
   "source": [
    "<br/>\n",
    "\n",
    "**n번째 인덱스 기준 내림차순 정렬**"
   ]
  },
  {
   "cell_type": "code",
   "execution_count": 21,
   "metadata": {},
   "outputs": [
    {
     "name": "stdout",
     "output_type": "stream",
     "text": [
      "[[7, 47], [5, 20], [2, 3], [2, 14]]\n"
     ]
    }
   ],
   "source": [
    "# 0번째 인덱스 내림차순, 1번째 인덱스 오름차순 정렬\n",
    "a = [[5, 20], [7, 47], [2, 14], [2, 3]]\n",
    "a.sort(key=lambda x: (-x[0], x[1]))\n",
    "print(a)"
   ]
  },
  {
   "cell_type": "code",
   "execution_count": 22,
   "metadata": {},
   "outputs": [
    {
     "name": "stdout",
     "output_type": "stream",
     "text": [
      "[[2, 14], [2, 3], [5, 20], [7, 47]]\n"
     ]
    }
   ],
   "source": [
    "# 0번째 인덱스 오름차순, 1번째 인덱스 내림차순 정렬\n",
    "a = [[5, 20], [7, 47], [2, 14], [2, 3]]\n",
    "a.sort(key=lambda x: (x[0], -x[1]))\n",
    "print(a)"
   ]
  },
  {
   "cell_type": "code",
   "execution_count": 23,
   "metadata": {},
   "outputs": [
    {
     "name": "stdout",
     "output_type": "stream",
     "text": [
      "[[7, 47], [5, 20], [2, 14], [2, 3]]\n"
     ]
    }
   ],
   "source": [
    "# 0번째 인덱스 내림차순, 1번째 인덱스 내림차순 정렬\n",
    "a = [[5, 20], [7, 47], [2, 14], [2, 3]]\n",
    "a.sort(key=lambda x: (-x[0], -x[1]))\n",
    "print(a)"
   ]
  }
 ],
 "metadata": {
  "kernelspec": {
   "display_name": "Python 3",
   "language": "python",
   "name": "python3"
  },
  "language_info": {
   "codemirror_mode": {
    "name": "ipython",
    "version": 3
   },
   "file_extension": ".py",
   "mimetype": "text/x-python",
   "name": "python",
   "nbconvert_exporter": "python",
   "pygments_lexer": "ipython3",
   "version": "3.8.5"
  }
 },
 "nbformat": 4,
 "nbformat_minor": 4
}
